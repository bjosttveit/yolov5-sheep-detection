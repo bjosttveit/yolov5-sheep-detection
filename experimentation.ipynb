{
 "cells": [
  {
   "cell_type": "code",
   "execution_count": 2,
   "metadata": {},
   "outputs": [],
   "source": [
    "import os\n",
    "\n",
    "datapath = \"./datasets/rgb\"\n",
    "\n",
    "def join(*paths):\n",
    "    return os.path.join(*map(lambda p: p.replace(\"/\", os.sep), paths))\n"
   ]
  },
  {
   "cell_type": "code",
   "execution_count": 10,
   "metadata": {},
   "outputs": [
    {
     "name": "stdout",
     "output_type": "stream",
     "text": [
      "62\n"
     ]
    }
   ],
   "source": [
    "dataset = \"autosplit_train.txt\"\n",
    "\n",
    "zero_sheep = 0\n",
    "\n",
    "with open(join(datapath, dataset)) as l:\n",
    "    while (line := l.readline()) != \"\":\n",
    "        label = join(datapath, line.replace(\"images\", \"labels\")[2:-4] + \"txt\")\n",
    "        with open(label) as f:\n",
    "            content = f.readlines()\n",
    "            if len(content) == 0:\n",
    "                zero_sheep += 1\n",
    "print(zero_sheep)"
   ]
  },
  {
   "cell_type": "code",
   "execution_count": null,
   "metadata": {},
   "outputs": [],
   "source": []
  }
 ],
 "metadata": {
  "interpreter": {
   "hash": "63fd5069d213b44bf678585dea6b12cceca9941eaf7f819626cde1f2670de90d"
  },
  "kernelspec": {
   "display_name": "Python 3.9.6 64-bit",
   "language": "python",
   "name": "python3"
  },
  "language_info": {
   "codemirror_mode": {
    "name": "ipython",
    "version": 3
   },
   "file_extension": ".py",
   "mimetype": "text/x-python",
   "name": "python",
   "nbconvert_exporter": "python",
   "pygments_lexer": "ipython3",
   "version": "3.9.7"
  },
  "orig_nbformat": 4
 },
 "nbformat": 4,
 "nbformat_minor": 2
}
