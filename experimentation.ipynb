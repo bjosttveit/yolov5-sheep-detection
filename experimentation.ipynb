{
 "cells": [
  {
   "cell_type": "code",
   "execution_count": 14,
   "metadata": {},
   "outputs": [],
   "source": [
    "import os\n",
    "\n",
    "datapath = \"./datasets/rgb\"\n",
    "\n",
    "def join(*paths):\n",
    "    return os.path.join(*map(lambda p: p.replace(\"/\", os.sep), paths))\n"
   ]
  },
  {
   "cell_type": "code",
   "execution_count": 15,
   "metadata": {},
   "outputs": [
    {
     "name": "stdout",
     "output_type": "stream",
     "text": [
      ".\\datasets\\rgb\\.\\labels\\1-rgb.jpg\n",
      "\n",
      ".\\datasets\\rgb\\.\\labels\\108-rgb.jpg\n",
      "\n",
      ".\\datasets\\rgb\\.\\labels\\113-rgb.jpg\n",
      "\n",
      ".\\datasets\\rgb\\.\\labels\\114-rgb.jpg\n",
      "\n",
      ".\\datasets\\rgb\\.\\labels\\115-rgb.jpg\n",
      "\n",
      ".\\datasets\\rgb\\.\\labels\\116-rgb.jpg\n",
      "\n",
      ".\\datasets\\rgb\\.\\labels\\119-rgb.jpg\n",
      "\n",
      ".\\datasets\\rgb\\.\\labels\\124-rgb.jpg\n",
      "\n",
      ".\\datasets\\rgb\\.\\labels\\125-rgb.jpg\n",
      "\n",
      ".\\datasets\\rgb\\.\\labels\\127-rgb.jpg\n",
      "\n",
      ".\\datasets\\rgb\\.\\labels\\129-rgb.jpg\n",
      "\n",
      ".\\datasets\\rgb\\.\\labels\\133-rgb.jpg\n",
      "\n",
      ".\\datasets\\rgb\\.\\labels\\137-rgb.jpg\n",
      "\n",
      ".\\datasets\\rgb\\.\\labels\\14-rgb.jpg\n",
      "\n",
      ".\\datasets\\rgb\\.\\labels\\143-rgb.jpg\n",
      "\n",
      ".\\datasets\\rgb\\.\\labels\\144-rgb.jpg\n",
      "\n",
      ".\\datasets\\rgb\\.\\labels\\15-rgb.jpg\n",
      "\n",
      ".\\datasets\\rgb\\.\\labels\\2-rgb.jpg\n",
      "\n",
      ".\\datasets\\rgb\\.\\labels\\21-rgb.jpg\n",
      "\n",
      ".\\datasets\\rgb\\.\\labels\\35-rgb.jpg\n",
      "\n",
      ".\\datasets\\rgb\\.\\labels\\36-rgb.jpg\n",
      "\n",
      ".\\datasets\\rgb\\.\\labels\\37-rgb.jpg\n",
      "\n",
      ".\\datasets\\rgb\\.\\labels\\38-rgb.jpg\n",
      "\n",
      ".\\datasets\\rgb\\.\\labels\\39-rgb.jpg\n",
      "\n",
      ".\\datasets\\rgb\\.\\labels\\43-rgb.jpg\n",
      "\n",
      ".\\datasets\\rgb\\.\\labels\\44-rgb.jpg\n",
      "\n",
      ".\\datasets\\rgb\\.\\labels\\45-rgb.jpg\n",
      "\n",
      ".\\datasets\\rgb\\.\\labels\\47-rgb.jpg\n",
      "\n",
      ".\\datasets\\rgb\\.\\labels\\50-rgb.jpg\n",
      "\n",
      ".\\datasets\\rgb\\.\\labels\\51-rgb.jpg\n",
      "\n",
      ".\\datasets\\rgb\\.\\labels\\57-rgb.jpg\n",
      "\n",
      ".\\datasets\\rgb\\.\\labels\\63-rgb.jpg\n",
      "\n",
      ".\\datasets\\rgb\\.\\labels\\69-rgb.jpg\n",
      "\n",
      ".\\datasets\\rgb\\.\\labels\\77-rgb.jpg\n",
      "\n",
      ".\\datasets\\rgb\\.\\labels\\8-rgb.jpg\n",
      "\n",
      ".\\datasets\\rgb\\.\\labels\\83-rgb.jpg\n",
      "\n",
      ".\\datasets\\rgb\\.\\labels\\84-rgb.jpg\n",
      "\n",
      ".\\datasets\\rgb\\.\\labels\\95-rgb.jpg\n",
      "\n",
      ".\\datasets\\rgb\\.\\labels\\99-rgb.jpg\n",
      "\n"
     ]
    }
   ],
   "source": [
    "dataset = \"autosplit_val.txt\"\n",
    "\n",
    "f = open(join(datapath, dataset))\n",
    "\n",
    "while (line := f.readline()) != \"\":\n",
    "    label = join(datapath, line.replace(\"images\", \"labels\"))\n",
    "    print(label)"
   ]
  },
  {
   "cell_type": "code",
   "execution_count": null,
   "metadata": {},
   "outputs": [],
   "source": []
  }
 ],
 "metadata": {
  "interpreter": {
   "hash": "63fd5069d213b44bf678585dea6b12cceca9941eaf7f819626cde1f2670de90d"
  },
  "kernelspec": {
   "display_name": "Python 3.9.6 64-bit",
   "language": "python",
   "name": "python3"
  },
  "language_info": {
   "codemirror_mode": {
    "name": "ipython",
    "version": 3
   },
   "file_extension": ".py",
   "mimetype": "text/x-python",
   "name": "python",
   "nbconvert_exporter": "python",
   "pygments_lexer": "ipython3",
   "version": "3.9.6"
  },
  "orig_nbformat": 4
 },
 "nbformat": 4,
 "nbformat_minor": 2
}
